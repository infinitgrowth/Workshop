{
 "cells": [
  {
   "cell_type": "code",
   "execution_count": 2,
   "metadata": {
    "collapsed": true
   },
   "outputs": [],
   "source": [
    "import pandas as pd\n",
    "heart = pd.read_csv('heart.csv')"
   ]
  },
  {
   "cell_type": "code",
   "execution_count": 9,
   "metadata": {},
   "outputs": [
    {
     "name": "stdout",
     "output_type": "stream",
     "text": [
      "<class 'pandas.core.frame.DataFrame'>\n",
      "RangeIndex: 5209 entries, 0 to 5208\n",
      "Data columns (total 17 columns):\n",
      "Status            5209 non-null object\n",
      "DeathCause        1991 non-null object\n",
      "AgeCHDdiag        1449 non-null float64\n",
      "Sex               5209 non-null object\n",
      "AgeAtStart        5209 non-null int64\n",
      "Height            5203 non-null float64\n",
      "Weight            5203 non-null float64\n",
      "Diastolic         5209 non-null int64\n",
      "Systolic          5209 non-null int64\n",
      "MRW               5203 non-null float64\n",
      "Smoking           5173 non-null float64\n",
      "AgeAtDeath        1991 non-null float64\n",
      "Cholesterol       5057 non-null float64\n",
      "Chol_Status       5057 non-null object\n",
      "BP_Status         5209 non-null object\n",
      "Weight_Status     5203 non-null object\n",
      "Smoking_Status    5173 non-null object\n",
      "dtypes: float64(7), int64(3), object(7)\n",
      "memory usage: 691.9+ KB\n"
     ]
    }
   ],
   "source": [
    "heart.head()\n",
    "heart.info()"
   ]
  },
  {
   "cell_type": "code",
   "execution_count": 4,
   "metadata": {},
   "outputs": [
    {
     "data": {
      "text/html": [
       "<div>\n",
       "<style>\n",
       "    .dataframe thead tr:only-child th {\n",
       "        text-align: right;\n",
       "    }\n",
       "\n",
       "    .dataframe thead th {\n",
       "        text-align: left;\n",
       "    }\n",
       "\n",
       "    .dataframe tbody tr th {\n",
       "        vertical-align: top;\n",
       "    }\n",
       "</style>\n",
       "<table border=\"1\" class=\"dataframe\">\n",
       "  <thead>\n",
       "    <tr style=\"text-align: right;\">\n",
       "      <th></th>\n",
       "      <th>Status</th>\n",
       "      <th>DeathCause</th>\n",
       "      <th>Sex</th>\n",
       "      <th>AgeAtStart</th>\n",
       "      <th>Diastolic</th>\n",
       "      <th>Systolic</th>\n",
       "    </tr>\n",
       "  </thead>\n",
       "  <tbody>\n",
       "    <tr>\n",
       "      <th>4731</th>\n",
       "      <td>Dead</td>\n",
       "      <td>Cerebral Vascular Disease</td>\n",
       "      <td>Female</td>\n",
       "      <td>62</td>\n",
       "      <td>120</td>\n",
       "      <td>230</td>\n",
       "    </tr>\n",
       "    <tr>\n",
       "      <th>4377</th>\n",
       "      <td>Dead</td>\n",
       "      <td>Other</td>\n",
       "      <td>Female</td>\n",
       "      <td>62</td>\n",
       "      <td>90</td>\n",
       "      <td>140</td>\n",
       "    </tr>\n",
       "    <tr>\n",
       "      <th>4702</th>\n",
       "      <td>Dead</td>\n",
       "      <td>Cerebral Vascular Disease</td>\n",
       "      <td>Female</td>\n",
       "      <td>62</td>\n",
       "      <td>89</td>\n",
       "      <td>216</td>\n",
       "    </tr>\n",
       "    <tr>\n",
       "      <th>4169</th>\n",
       "      <td>Alive</td>\n",
       "      <td>NaN</td>\n",
       "      <td>Female</td>\n",
       "      <td>62</td>\n",
       "      <td>94</td>\n",
       "      <td>146</td>\n",
       "    </tr>\n",
       "    <tr>\n",
       "      <th>4889</th>\n",
       "      <td>Dead</td>\n",
       "      <td>Other</td>\n",
       "      <td>Female</td>\n",
       "      <td>62</td>\n",
       "      <td>92</td>\n",
       "      <td>160</td>\n",
       "    </tr>\n",
       "  </tbody>\n",
       "</table>\n",
       "</div>"
      ],
      "text/plain": [
       "     Status                 DeathCause     Sex  AgeAtStart  Diastolic  \\\n",
       "4731   Dead  Cerebral Vascular Disease  Female          62        120   \n",
       "4377   Dead                      Other  Female          62         90   \n",
       "4702   Dead  Cerebral Vascular Disease  Female          62         89   \n",
       "4169  Alive                        NaN  Female          62         94   \n",
       "4889   Dead                      Other  Female          62         92   \n",
       "\n",
       "      Systolic  \n",
       "4731       230  \n",
       "4377       140  \n",
       "4702       216  \n",
       "4169       146  \n",
       "4889       160  "
      ]
     },
     "execution_count": 4,
     "metadata": {},
     "output_type": "execute_result"
    }
   ],
   "source": [
    "heart2 = heart[[\"Status\",\"DeathCause\",\"Sex\",\"AgeAtStart\",\"Diastolic\",\"Systolic\"]]\n",
    "heart2 = heart2[(heart['Systolic'] >= 120) & (heart['Diastolic'] >= 80)]\n",
    "heart2 = heart2.sort_values(by ='AgeAtStart', ascending=False)\n",
    "heart2.head()"
   ]
  },
  {
   "cell_type": "code",
   "execution_count": null,
   "metadata": {
    "collapsed": true
   },
   "outputs": [],
   "source": []
  }
 ],
 "metadata": {
  "kernelspec": {
   "display_name": "Python 3",
   "language": "python",
   "name": "python3"
  },
  "language_info": {
   "codemirror_mode": {
    "name": "ipython",
    "version": 3
   },
   "file_extension": ".py",
   "mimetype": "text/x-python",
   "name": "python",
   "nbconvert_exporter": "python",
   "pygments_lexer": "ipython3",
   "version": "3.6.1"
  }
 },
 "nbformat": 4,
 "nbformat_minor": 2
}
