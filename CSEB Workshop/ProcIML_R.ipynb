{
 "cells": [
  {
   "cell_type": "code",
   "execution_count": 5,
   "metadata": {},
   "outputs": [
    {
     "data": {
      "text/html": [
       "<table>\n",
       "<thead><tr><th scope=col>ID</th><th scope=col>LOW</th><th scope=col>AGE</th><th scope=col>LWT</th><th scope=col>ETH</th><th scope=col>SMOKE</th><th scope=col>PTL</th><th scope=col>HT</th><th scope=col>UI</th><th scope=col>FTV</th><th scope=col>BWT</th></tr></thead>\n",
       "<tbody>\n",
       "\t<tr><td>85  </td><td>0   </td><td>19  </td><td>182 </td><td>2   </td><td>0   </td><td>0   </td><td>0   </td><td>1   </td><td>0   </td><td>2523</td></tr>\n",
       "\t<tr><td>86  </td><td>0   </td><td>33  </td><td>155 </td><td>3   </td><td>0   </td><td>0   </td><td>0   </td><td>0   </td><td>2   </td><td>2551</td></tr>\n",
       "\t<tr><td>87  </td><td>0   </td><td>20  </td><td>105 </td><td>1   </td><td>1   </td><td>0   </td><td>0   </td><td>0   </td><td>1   </td><td>2557</td></tr>\n",
       "\t<tr><td>88  </td><td>0   </td><td>21  </td><td>108 </td><td>1   </td><td>1   </td><td>0   </td><td>0   </td><td>1   </td><td>2   </td><td>2594</td></tr>\n",
       "\t<tr><td>89  </td><td>0   </td><td>18  </td><td>107 </td><td>1   </td><td>1   </td><td>0   </td><td>0   </td><td>1   </td><td>0   </td><td>2600</td></tr>\n",
       "\t<tr><td>91  </td><td>0   </td><td>21  </td><td>124 </td><td>3   </td><td>0   </td><td>0   </td><td>0   </td><td>0   </td><td>0   </td><td>2622</td></tr>\n",
       "\t<tr><td>92  </td><td>0   </td><td>22  </td><td>118 </td><td>1   </td><td>0   </td><td>0   </td><td>0   </td><td>0   </td><td>1   </td><td>2637</td></tr>\n",
       "\t<tr><td>93  </td><td>0   </td><td>17  </td><td>103 </td><td>3   </td><td>0   </td><td>0   </td><td>0   </td><td>0   </td><td>1   </td><td>2637</td></tr>\n",
       "\t<tr><td>94  </td><td>0   </td><td>29  </td><td>123 </td><td>1   </td><td>1   </td><td>0   </td><td>0   </td><td>0   </td><td>1   </td><td>2663</td></tr>\n",
       "\t<tr><td>95  </td><td>0   </td><td>26  </td><td>113 </td><td>1   </td><td>1   </td><td>0   </td><td>0   </td><td>0   </td><td>0   </td><td>2665</td></tr>\n",
       "</tbody>\n",
       "</table>\n"
      ],
      "text/latex": [
       "\\begin{tabular}{r|lllllllllll}\n",
       " ID & LOW & AGE & LWT & ETH & SMOKE & PTL & HT & UI & FTV & BWT\\\\\n",
       "\\hline\n",
       "\t 85   & 0    & 19   & 182  & 2    & 0    & 0    & 0    & 1    & 0    & 2523\\\\\n",
       "\t 86   & 0    & 33   & 155  & 3    & 0    & 0    & 0    & 0    & 2    & 2551\\\\\n",
       "\t 87   & 0    & 20   & 105  & 1    & 1    & 0    & 0    & 0    & 1    & 2557\\\\\n",
       "\t 88   & 0    & 21   & 108  & 1    & 1    & 0    & 0    & 1    & 2    & 2594\\\\\n",
       "\t 89   & 0    & 18   & 107  & 1    & 1    & 0    & 0    & 1    & 0    & 2600\\\\\n",
       "\t 91   & 0    & 21   & 124  & 3    & 0    & 0    & 0    & 0    & 0    & 2622\\\\\n",
       "\t 92   & 0    & 22   & 118  & 1    & 0    & 0    & 0    & 0    & 1    & 2637\\\\\n",
       "\t 93   & 0    & 17   & 103  & 3    & 0    & 0    & 0    & 0    & 1    & 2637\\\\\n",
       "\t 94   & 0    & 29   & 123  & 1    & 1    & 0    & 0    & 0    & 1    & 2663\\\\\n",
       "\t 95   & 0    & 26   & 113  & 1    & 1    & 0    & 0    & 0    & 0    & 2665\\\\\n",
       "\\end{tabular}\n"
      ],
      "text/markdown": [
       "\n",
       "ID | LOW | AGE | LWT | ETH | SMOKE | PTL | HT | UI | FTV | BWT | \n",
       "|---|---|---|---|---|---|---|---|---|---|\n",
       "| 85   | 0    | 19   | 182  | 2    | 0    | 0    | 0    | 1    | 0    | 2523 | \n",
       "| 86   | 0    | 33   | 155  | 3    | 0    | 0    | 0    | 0    | 2    | 2551 | \n",
       "| 87   | 0    | 20   | 105  | 1    | 1    | 0    | 0    | 0    | 1    | 2557 | \n",
       "| 88   | 0    | 21   | 108  | 1    | 1    | 0    | 0    | 1    | 2    | 2594 | \n",
       "| 89   | 0    | 18   | 107  | 1    | 1    | 0    | 0    | 1    | 0    | 2600 | \n",
       "| 91   | 0    | 21   | 124  | 3    | 0    | 0    | 0    | 0    | 0    | 2622 | \n",
       "| 92   | 0    | 22   | 118  | 1    | 0    | 0    | 0    | 0    | 1    | 2637 | \n",
       "| 93   | 0    | 17   | 103  | 3    | 0    | 0    | 0    | 0    | 1    | 2637 | \n",
       "| 94   | 0    | 29   | 123  | 1    | 1    | 0    | 0    | 0    | 1    | 2663 | \n",
       "| 95   | 0    | 26   | 113  | 1    | 1    | 0    | 0    | 0    | 0    | 2665 | \n",
       "\n",
       "\n"
      ],
      "text/plain": [
       "   ID LOW AGE LWT ETH SMOKE PTL HT UI FTV BWT \n",
       "1  85 0   19  182 2   0     0   0  1  0   2523\n",
       "2  86 0   33  155 3   0     0   0  0  2   2551\n",
       "3  87 0   20  105 1   1     0   0  0  1   2557\n",
       "4  88 0   21  108 1   1     0   0  1  2   2594\n",
       "5  89 0   18  107 1   1     0   0  1  0   2600\n",
       "6  91 0   21  124 3   0     0   0  0  0   2622\n",
       "7  92 0   22  118 1   0     0   0  0  1   2637\n",
       "8  93 0   17  103 3   0     0   0  0  1   2637\n",
       "9  94 0   29  123 1   1     0   0  0  1   2663\n",
       "10 95 0   26  113 1   1     0   0  0  0   2665"
      ]
     },
     "metadata": {},
     "output_type": "display_data"
    }
   ],
   "source": [
    "birth = read.csv(\"birth.csv\")\n",
    "head(birth, n=10)"
   ]
  },
  {
   "cell_type": "code",
   "execution_count": 6,
   "metadata": {},
   "outputs": [
    {
     "data": {
      "text/plain": [
       "                Length Class  Mode     \n",
       "call              5    -none- call     \n",
       "type              1    -none- character\n",
       "predicted       189    -none- numeric  \n",
       "mse             200    -none- numeric  \n",
       "rsq             200    -none- numeric  \n",
       "oob.times       189    -none- numeric  \n",
       "importance        8    -none- numeric  \n",
       "importanceSD      4    -none- numeric  \n",
       "localImportance   0    -none- NULL     \n",
       "proximity         0    -none- NULL     \n",
       "ntree             1    -none- numeric  \n",
       "mtry              1    -none- numeric  \n",
       "forest           11    -none- list     \n",
       "coefs             0    -none- NULL     \n",
       "y               189    -none- numeric  \n",
       "test              0    -none- NULL     \n",
       "inbag             0    -none- NULL     \n",
       "terms             3    terms  call     "
      ]
     },
     "metadata": {},
     "output_type": "display_data"
    }
   ],
   "source": [
    "library(randomForest) \n",
    "rf=randomForest(BWT ~ SMOKE + HT + LWT + PTL, \n",
    "data=birth, ntree=200, importance=TRUE) \n",
    "summary(rf) \n",
    "actual=birth$BWT \n",
    "pred=predict(rf, data=birth) \n",
    "actual.pred=cbind(actual, pred) \n",
    "colnames(actual.pred) <- c(\"Actual\", \"Predicted\")"
   ]
  }
 ],
 "metadata": {
  "kernelspec": {
   "display_name": "R",
   "language": "R",
   "name": "ir"
  },
  "language_info": {
   "codemirror_mode": "r",
   "file_extension": ".r",
   "mimetype": "text/x-r-source",
   "name": "R",
   "pygments_lexer": "r",
   "version": "3.3.2"
  }
 },
 "nbformat": 4,
 "nbformat_minor": 2
}
