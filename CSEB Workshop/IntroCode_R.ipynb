{
 "cells": [
  {
   "cell_type": "code",
   "execution_count": 1,
   "metadata": {},
   "outputs": [
    {
     "name": "stderr",
     "output_type": "stream",
     "text": [
      "Warning message:\n",
      "\"package 'dplyr' was built under R version 3.3.3\"\n",
      "Attaching package: 'dplyr'\n",
      "\n",
      "The following objects are masked from 'package:stats':\n",
      "\n",
      "    filter, lag\n",
      "\n",
      "The following objects are masked from 'package:base':\n",
      "\n",
      "    intersect, setdiff, setequal, union\n",
      "\n"
     ]
    }
   ],
   "source": [
    "library(dplyr)\n",
    "# import data\n",
    "heart = read.csv(\"heart.csv\")"
   ]
  },
  {
   "cell_type": "code",
   "execution_count": 2,
   "metadata": {},
   "outputs": [
    {
     "name": "stdout",
     "output_type": "stream",
     "text": [
      "'data.frame':\t5209 obs. of  17 variables:\n",
      " $ Status        : Factor w/ 2 levels \"Alive\",\"Dead\": 2 2 1 1 1 1 1 2 1 2 ...\n",
      " $ DeathCause    : Factor w/ 6 levels \"\",\"Cancer\",\"Cerebral Vascular Disease\",..: 5 2 1 1 1 1 1 5 1 3 ...\n",
      " $ AgeCHDdiag    : int  NA NA NA NA NA NA NA NA NA NA ...\n",
      " $ Sex           : Factor w/ 2 levels \"Female\",\"Male\": 1 1 1 1 2 1 1 2 2 2 ...\n",
      " $ AgeAtStart    : int  29 41 57 39 42 58 36 53 35 52 ...\n",
      " $ Height        : num  62.5 59.8 62.2 65.8 66 ...\n",
      " $ Weight        : int  140 194 132 158 156 131 136 130 194 129 ...\n",
      " $ Diastolic     : int  78 92 90 80 76 92 80 80 68 78 ...\n",
      " $ Systolic      : int  124 144 170 128 110 176 112 114 132 124 ...\n",
      " $ MRW           : int  121 183 114 123 116 117 110 99 124 106 ...\n",
      " $ Smoking       : int  0 0 10 0 20 0 15 0 0 5 ...\n",
      " $ AgeAtDeath    : int  55 57 NA NA NA NA NA 77 NA 82 ...\n",
      " $ Cholesterol   : int  NA 181 250 242 281 196 196 276 211 284 ...\n",
      " $ Chol_Status   : Factor w/ 4 levels \"\",\"Borderline\",..: 1 3 4 4 4 3 3 4 2 4 ...\n",
      " $ BP_Status     : Factor w/ 3 levels \"High\",\"Normal\",..: 2 1 1 2 3 1 2 2 2 2 ...\n",
      " $ Weight_Status : Factor w/ 4 levels \"\",\"Normal\",\"Overweight\",..: 3 3 3 3 3 3 3 2 3 2 ...\n",
      " $ Smoking_Status: Factor w/ 6 levels \"\",\"Heavy (16-25)\",..: 5 5 4 5 2 5 4 5 5 3 ...\n"
     ]
    }
   ],
   "source": [
    "#Structure of an R dataframe, info about the variables in the table with small preview\n",
    "str(heart)"
   ]
  },
  {
   "cell_type": "code",
   "execution_count": 3,
   "metadata": {},
   "outputs": [
    {
     "data": {
      "text/html": [
       "<table>\n",
       "<thead><tr><th scope=col>Status</th><th scope=col>DeathCause</th><th scope=col>Sex</th><th scope=col>AgeAtStart</th><th scope=col>Diastolic</th><th scope=col>Systolic</th></tr></thead>\n",
       "<tbody>\n",
       "\t<tr><td>Alive                    </td><td>                         </td><td>Female                   </td><td>62                       </td><td> 94                      </td><td>146                      </td></tr>\n",
       "\t<tr><td>Dead                     </td><td>Other                    </td><td>Female                   </td><td>62                       </td><td> 90                      </td><td>140                      </td></tr>\n",
       "\t<tr><td>Dead                     </td><td>Unknown                  </td><td>Female                   </td><td>62                       </td><td>100                      </td><td>170                      </td></tr>\n",
       "\t<tr><td>Dead                     </td><td>Cerebral Vascular Disease</td><td>Male                     </td><td>62                       </td><td> 90                      </td><td>156                      </td></tr>\n",
       "\t<tr><td>Dead                     </td><td>Cerebral Vascular Disease</td><td>Female                   </td><td>62                       </td><td> 89                      </td><td>216                      </td></tr>\n",
       "\t<tr><td>Dead                     </td><td>Cerebral Vascular Disease</td><td>Female                   </td><td>62                       </td><td>120                      </td><td>230                      </td></tr>\n",
       "</tbody>\n",
       "</table>\n"
      ],
      "text/latex": [
       "\\begin{tabular}{r|llllll}\n",
       " Status & DeathCause & Sex & AgeAtStart & Diastolic & Systolic\\\\\n",
       "\\hline\n",
       "\t Alive                     &                           & Female                    & 62                        &  94                       & 146                      \\\\\n",
       "\t Dead                      & Other                     & Female                    & 62                        &  90                       & 140                      \\\\\n",
       "\t Dead                      & Unknown                   & Female                    & 62                        & 100                       & 170                      \\\\\n",
       "\t Dead                      & Cerebral Vascular Disease & Male                      & 62                        &  90                       & 156                      \\\\\n",
       "\t Dead                      & Cerebral Vascular Disease & Female                    & 62                        &  89                       & 216                      \\\\\n",
       "\t Dead                      & Cerebral Vascular Disease & Female                    & 62                        & 120                       & 230                      \\\\\n",
       "\\end{tabular}\n"
      ],
      "text/markdown": [
       "\n",
       "Status | DeathCause | Sex | AgeAtStart | Diastolic | Systolic | \n",
       "|---|---|---|---|---|---|\n",
       "| Alive                     |                           | Female                    | 62                        |  94                       | 146                       | \n",
       "| Dead                      | Other                     | Female                    | 62                        |  90                       | 140                       | \n",
       "| Dead                      | Unknown                   | Female                    | 62                        | 100                       | 170                       | \n",
       "| Dead                      | Cerebral Vascular Disease | Male                      | 62                        |  90                       | 156                       | \n",
       "| Dead                      | Cerebral Vascular Disease | Female                    | 62                        |  89                       | 216                       | \n",
       "| Dead                      | Cerebral Vascular Disease | Female                    | 62                        | 120                       | 230                       | \n",
       "\n",
       "\n"
      ],
      "text/plain": [
       "  Status DeathCause                Sex    AgeAtStart Diastolic Systolic\n",
       "1 Alive                            Female 62          94       146     \n",
       "2 Dead   Other                     Female 62          90       140     \n",
       "3 Dead   Unknown                   Female 62         100       170     \n",
       "4 Dead   Cerebral Vascular Disease Male   62          90       156     \n",
       "5 Dead   Cerebral Vascular Disease Female 62          89       216     \n",
       "6 Dead   Cerebral Vascular Disease Female 62         120       230     "
      ]
     },
     "metadata": {},
     "output_type": "display_data"
    }
   ],
   "source": [
    "#using dplyr package\n",
    "heart3 = select(heart,Status,DeathCause,Sex,AgeAtStart,Diastolic,Systolic)\n",
    "heart3 = filter(heart3, Systolic >= 120 , Diastolic >= 80)\n",
    "heart3 = arrange(heart3, desc(AgeAtStart))\n",
    "head(heart3)"
   ]
  },
  {
   "cell_type": "code",
   "execution_count": null,
   "metadata": {
    "collapsed": true
   },
   "outputs": [],
   "source": []
  }
 ],
 "metadata": {
  "kernelspec": {
   "display_name": "R",
   "language": "R",
   "name": "ir"
  },
  "language_info": {
   "codemirror_mode": "r",
   "file_extension": ".r",
   "mimetype": "text/x-r-source",
   "name": "R",
   "pygments_lexer": "r",
   "version": "3.3.2"
  }
 },
 "nbformat": 4,
 "nbformat_minor": 2
}
