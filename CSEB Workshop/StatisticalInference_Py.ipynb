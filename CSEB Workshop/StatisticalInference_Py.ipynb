{
 "cells": [
  {
   "cell_type": "code",
   "execution_count": 1,
   "metadata": {
    "collapsed": true
   },
   "outputs": [],
   "source": [
    "import pandas as pd\n",
    "heart = pd.read_csv(\"heart.csv\")\n",
    "\n",
    "import scipy as sp\n",
    "from scipy import stats\n",
    "\n",
    "import numpy as np"
   ]
  },
  {
   "cell_type": "code",
   "execution_count": 2,
   "metadata": {},
   "outputs": [
    {
     "data": {
      "text/html": [
       "<div>\n",
       "<style>\n",
       "    .dataframe thead tr:only-child th {\n",
       "        text-align: right;\n",
       "    }\n",
       "\n",
       "    .dataframe thead th {\n",
       "        text-align: left;\n",
       "    }\n",
       "\n",
       "    .dataframe tbody tr th {\n",
       "        vertical-align: top;\n",
       "    }\n",
       "</style>\n",
       "<table border=\"1\" class=\"dataframe\">\n",
       "  <thead>\n",
       "    <tr style=\"text-align: right;\">\n",
       "      <th></th>\n",
       "      <th>Status</th>\n",
       "      <th>DeathCause</th>\n",
       "      <th>AgeCHDdiag</th>\n",
       "      <th>Sex</th>\n",
       "      <th>AgeAtStart</th>\n",
       "      <th>Height</th>\n",
       "      <th>Weight</th>\n",
       "      <th>Diastolic</th>\n",
       "      <th>Systolic</th>\n",
       "      <th>MRW</th>\n",
       "      <th>Smoking</th>\n",
       "      <th>AgeAtDeath</th>\n",
       "      <th>Cholesterol</th>\n",
       "      <th>Chol_Status</th>\n",
       "      <th>BP_Status</th>\n",
       "      <th>Weight_Status</th>\n",
       "      <th>Smoking_Status</th>\n",
       "    </tr>\n",
       "  </thead>\n",
       "  <tbody>\n",
       "    <tr>\n",
       "      <th>0</th>\n",
       "      <td>Dead</td>\n",
       "      <td>Other</td>\n",
       "      <td>NaN</td>\n",
       "      <td>Female</td>\n",
       "      <td>29</td>\n",
       "      <td>62.50</td>\n",
       "      <td>140.0</td>\n",
       "      <td>78</td>\n",
       "      <td>124</td>\n",
       "      <td>121.0</td>\n",
       "      <td>0.0</td>\n",
       "      <td>55.0</td>\n",
       "      <td>NaN</td>\n",
       "      <td>NaN</td>\n",
       "      <td>Normal</td>\n",
       "      <td>Overweight</td>\n",
       "      <td>Non-smoker</td>\n",
       "    </tr>\n",
       "    <tr>\n",
       "      <th>1</th>\n",
       "      <td>Dead</td>\n",
       "      <td>Cancer</td>\n",
       "      <td>NaN</td>\n",
       "      <td>Female</td>\n",
       "      <td>41</td>\n",
       "      <td>59.75</td>\n",
       "      <td>194.0</td>\n",
       "      <td>92</td>\n",
       "      <td>144</td>\n",
       "      <td>183.0</td>\n",
       "      <td>0.0</td>\n",
       "      <td>57.0</td>\n",
       "      <td>181.0</td>\n",
       "      <td>Desirable</td>\n",
       "      <td>High</td>\n",
       "      <td>Overweight</td>\n",
       "      <td>Non-smoker</td>\n",
       "    </tr>\n",
       "  </tbody>\n",
       "</table>\n",
       "</div>"
      ],
      "text/plain": [
       "  Status DeathCause  AgeCHDdiag     Sex  AgeAtStart  Height  Weight  \\\n",
       "0   Dead      Other         NaN  Female          29   62.50   140.0   \n",
       "1   Dead     Cancer         NaN  Female          41   59.75   194.0   \n",
       "\n",
       "   Diastolic  Systolic    MRW  Smoking  AgeAtDeath  Cholesterol Chol_Status  \\\n",
       "0         78       124  121.0      0.0        55.0          NaN         NaN   \n",
       "1         92       144  183.0      0.0        57.0        181.0   Desirable   \n",
       "\n",
       "  BP_Status Weight_Status Smoking_Status  \n",
       "0    Normal    Overweight     Non-smoker  \n",
       "1      High    Overweight     Non-smoker  "
      ]
     },
     "execution_count": 2,
     "metadata": {},
     "output_type": "execute_result"
    }
   ],
   "source": [
    "heart2 = heart\n",
    "heart.head(2)"
   ]
  },
  {
   "cell_type": "code",
   "execution_count": 3,
   "metadata": {},
   "outputs": [
    {
     "name": "stdout",
     "output_type": "stream",
     "text": [
      "Ttest_indResult(statistic=nan, pvalue=nan)\n"
     ]
    },
    {
     "name": "stderr",
     "output_type": "stream",
     "text": [
      "C:\\Users\\cannkn\\AppData\\Local\\Continuum\\Anaconda3\\envs\\PyR_TnL\\lib\\site-packages\\scipy\\stats\\_distn_infrastructure.py:879: RuntimeWarning: invalid value encountered in greater\n",
      "  return (self.a < x) & (x < self.b)\n",
      "C:\\Users\\cannkn\\AppData\\Local\\Continuum\\Anaconda3\\envs\\PyR_TnL\\lib\\site-packages\\scipy\\stats\\_distn_infrastructure.py:879: RuntimeWarning: invalid value encountered in less\n",
      "  return (self.a < x) & (x < self.b)\n",
      "C:\\Users\\cannkn\\AppData\\Local\\Continuum\\Anaconda3\\envs\\PyR_TnL\\lib\\site-packages\\scipy\\stats\\_distn_infrastructure.py:1818: RuntimeWarning: invalid value encountered in less_equal\n",
      "  cond2 = cond0 & (x <= self.a)\n"
     ]
    }
   ],
   "source": [
    "heart['Weight']=heart['Weight'].replace('NaN',heart['Weight'].mean())\n",
    "print(stats.ttest_ind(heart['Weight'][heart['Sex'] == \"Male\"],heart['Weight'][heart['Sex'] == \"Female\"]))"
   ]
  },
  {
   "cell_type": "code",
   "execution_count": 4,
   "metadata": {},
   "outputs": [
    {
     "data": {
      "text/plain": [
       "6"
      ]
     },
     "execution_count": 4,
     "metadata": {},
     "output_type": "execute_result"
    }
   ],
   "source": [
    "sum(np.isnan(heart.Weight))"
   ]
  },
  {
   "cell_type": "code",
   "execution_count": 5,
   "metadata": {},
   "outputs": [
    {
     "data": {
      "text/html": [
       "<div>\n",
       "<style>\n",
       "    .dataframe thead tr:only-child th {\n",
       "        text-align: right;\n",
       "    }\n",
       "\n",
       "    .dataframe thead th {\n",
       "        text-align: left;\n",
       "    }\n",
       "\n",
       "    .dataframe tbody tr th {\n",
       "        vertical-align: top;\n",
       "    }\n",
       "</style>\n",
       "<table border=\"1\" class=\"dataframe\">\n",
       "  <thead>\n",
       "    <tr style=\"text-align: right;\">\n",
       "      <th></th>\n",
       "      <th>Status</th>\n",
       "      <th>DeathCause</th>\n",
       "      <th>AgeCHDdiag</th>\n",
       "      <th>Sex</th>\n",
       "      <th>AgeAtStart</th>\n",
       "      <th>Height</th>\n",
       "      <th>Weight</th>\n",
       "      <th>Diastolic</th>\n",
       "      <th>Systolic</th>\n",
       "      <th>MRW</th>\n",
       "      <th>Smoking</th>\n",
       "      <th>AgeAtDeath</th>\n",
       "      <th>Cholesterol</th>\n",
       "      <th>Chol_Status</th>\n",
       "      <th>BP_Status</th>\n",
       "      <th>Weight_Status</th>\n",
       "      <th>Smoking_Status</th>\n",
       "    </tr>\n",
       "  </thead>\n",
       "  <tbody>\n",
       "    <tr>\n",
       "      <th>0</th>\n",
       "      <td>Dead</td>\n",
       "      <td>Other</td>\n",
       "      <td>NaN</td>\n",
       "      <td>0</td>\n",
       "      <td>29</td>\n",
       "      <td>62.50</td>\n",
       "      <td>140.0</td>\n",
       "      <td>78</td>\n",
       "      <td>124</td>\n",
       "      <td>121.0</td>\n",
       "      <td>0.0</td>\n",
       "      <td>55.0</td>\n",
       "      <td>NaN</td>\n",
       "      <td>NaN</td>\n",
       "      <td>Normal</td>\n",
       "      <td>Overweight</td>\n",
       "      <td>Non-smoker</td>\n",
       "    </tr>\n",
       "    <tr>\n",
       "      <th>1</th>\n",
       "      <td>Dead</td>\n",
       "      <td>Cancer</td>\n",
       "      <td>NaN</td>\n",
       "      <td>0</td>\n",
       "      <td>41</td>\n",
       "      <td>59.75</td>\n",
       "      <td>194.0</td>\n",
       "      <td>92</td>\n",
       "      <td>144</td>\n",
       "      <td>183.0</td>\n",
       "      <td>0.0</td>\n",
       "      <td>57.0</td>\n",
       "      <td>181.0</td>\n",
       "      <td>Desirable</td>\n",
       "      <td>High</td>\n",
       "      <td>Overweight</td>\n",
       "      <td>Non-smoker</td>\n",
       "    </tr>\n",
       "    <tr>\n",
       "      <th>2</th>\n",
       "      <td>Alive</td>\n",
       "      <td>NaN</td>\n",
       "      <td>NaN</td>\n",
       "      <td>0</td>\n",
       "      <td>57</td>\n",
       "      <td>62.25</td>\n",
       "      <td>132.0</td>\n",
       "      <td>90</td>\n",
       "      <td>170</td>\n",
       "      <td>114.0</td>\n",
       "      <td>10.0</td>\n",
       "      <td>NaN</td>\n",
       "      <td>250.0</td>\n",
       "      <td>High</td>\n",
       "      <td>High</td>\n",
       "      <td>Overweight</td>\n",
       "      <td>Moderate (6-15)</td>\n",
       "    </tr>\n",
       "    <tr>\n",
       "      <th>3</th>\n",
       "      <td>Alive</td>\n",
       "      <td>NaN</td>\n",
       "      <td>NaN</td>\n",
       "      <td>0</td>\n",
       "      <td>39</td>\n",
       "      <td>65.75</td>\n",
       "      <td>158.0</td>\n",
       "      <td>80</td>\n",
       "      <td>128</td>\n",
       "      <td>123.0</td>\n",
       "      <td>0.0</td>\n",
       "      <td>NaN</td>\n",
       "      <td>242.0</td>\n",
       "      <td>High</td>\n",
       "      <td>Normal</td>\n",
       "      <td>Overweight</td>\n",
       "      <td>Non-smoker</td>\n",
       "    </tr>\n",
       "    <tr>\n",
       "      <th>4</th>\n",
       "      <td>Alive</td>\n",
       "      <td>NaN</td>\n",
       "      <td>NaN</td>\n",
       "      <td>1</td>\n",
       "      <td>42</td>\n",
       "      <td>66.00</td>\n",
       "      <td>156.0</td>\n",
       "      <td>76</td>\n",
       "      <td>110</td>\n",
       "      <td>116.0</td>\n",
       "      <td>20.0</td>\n",
       "      <td>NaN</td>\n",
       "      <td>281.0</td>\n",
       "      <td>High</td>\n",
       "      <td>Optimal</td>\n",
       "      <td>Overweight</td>\n",
       "      <td>Heavy (16-25)</td>\n",
       "    </tr>\n",
       "  </tbody>\n",
       "</table>\n",
       "</div>"
      ],
      "text/plain": [
       "  Status DeathCause  AgeCHDdiag  Sex  AgeAtStart  Height  Weight  Diastolic  \\\n",
       "0   Dead      Other         NaN    0          29   62.50   140.0         78   \n",
       "1   Dead     Cancer         NaN    0          41   59.75   194.0         92   \n",
       "2  Alive        NaN         NaN    0          57   62.25   132.0         90   \n",
       "3  Alive        NaN         NaN    0          39   65.75   158.0         80   \n",
       "4  Alive        NaN         NaN    1          42   66.00   156.0         76   \n",
       "\n",
       "   Systolic    MRW  Smoking  AgeAtDeath  Cholesterol Chol_Status BP_Status  \\\n",
       "0       124  121.0      0.0        55.0          NaN         NaN    Normal   \n",
       "1       144  183.0      0.0        57.0        181.0   Desirable      High   \n",
       "2       170  114.0     10.0         NaN        250.0        High      High   \n",
       "3       128  123.0      0.0         NaN        242.0        High    Normal   \n",
       "4       110  116.0     20.0         NaN        281.0        High   Optimal   \n",
       "\n",
       "  Weight_Status   Smoking_Status  \n",
       "0    Overweight       Non-smoker  \n",
       "1    Overweight       Non-smoker  \n",
       "2    Overweight  Moderate (6-15)  \n",
       "3    Overweight       Non-smoker  \n",
       "4    Overweight    Heavy (16-25)  "
      ]
     },
     "execution_count": 5,
     "metadata": {},
     "output_type": "execute_result"
    }
   ],
   "source": [
    "heart2.Sex = heart.Sex.replace('Female',0)\n",
    "heart2.Sex = heart2.Sex.replace('Male',1)\n",
    "heart2.head()\n",
    "\n"
   ]
  },
  {
   "cell_type": "code",
   "execution_count": 6,
   "metadata": {},
   "outputs": [
    {
     "data": {
      "text/plain": [
       "F_onewayResult(statistic=nan, pvalue=nan)"
      ]
     },
     "execution_count": 6,
     "metadata": {},
     "output_type": "execute_result"
    }
   ],
   "source": [
    "stats.f_oneway(heart2.Weight, heart2.Sex)"
   ]
  },
  {
   "cell_type": "code",
   "execution_count": 7,
   "metadata": {},
   "outputs": [
    {
     "name": "stdout",
     "output_type": "stream",
     "text": [
      "            Sex   Weight\n",
      "Sex     1.00000  0.44858\n",
      "Weight  0.44858  1.00000\n"
     ]
    }
   ],
   "source": [
    "print(heart2[['Sex','Weight']].corr())\n",
    "#print(heart2.corr())"
   ]
  }
 ],
 "metadata": {
  "kernelspec": {
   "display_name": "Python 3",
   "language": "python",
   "name": "python3"
  },
  "language_info": {
   "codemirror_mode": {
    "name": "ipython",
    "version": 3
   },
   "file_extension": ".py",
   "mimetype": "text/x-python",
   "name": "python",
   "nbconvert_exporter": "python",
   "pygments_lexer": "ipython3",
   "version": "3.6.1"
  }
 },
 "nbformat": 4,
 "nbformat_minor": 2
}
