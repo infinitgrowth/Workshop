{
 "cells": [
  {
   "cell_type": "code",
   "execution_count": 2,
   "metadata": {
    "collapsed": true
   },
   "outputs": [],
   "source": [
    "heartABT = read.csv(\"finalHeartABT.csv\")"
   ]
  },
  {
   "cell_type": "code",
   "execution_count": 3,
   "metadata": {},
   "outputs": [
    {
     "data": {
      "text/plain": [
       "\n",
       "Call:\n",
       "lm(formula = Alive_1 ~ Male_1_Female_0 + Weight + Diastolic + \n",
       "    Systolic, data = heartABT)\n",
       "\n",
       "Residuals:\n",
       "    Min      1Q  Median      3Q     Max \n",
       "-1.0265 -0.4969  0.2052  0.3671  1.0344 \n",
       "\n",
       "Coefficients:\n",
       "                  Estimate Std. Error t value Pr(>|t|)    \n",
       "(Intercept)      1.515e+00  4.851e-02  31.232   <2e-16 ***\n",
       "Male_1_Female_0 -1.630e-01  1.460e-02 -11.162   <2e-16 ***\n",
       "Weight           2.894e-04  2.648e-04   1.093    0.275    \n",
       "Diastolic        4.967e-05  8.362e-04   0.059    0.953    \n",
       "Systolic        -6.352e-03  4.487e-04 -14.155   <2e-16 ***\n",
       "---\n",
       "Signif. codes:  0 '***' 0.001 '**' 0.01 '*' 0.05 '.' 0.1 ' ' 1\n",
       "\n",
       "Residual standard error: 0.4558 on 5046 degrees of freedom\n",
       "  (6 observations deleted due to missingness)\n",
       "Multiple R-squared:  0.1189,\tAdjusted R-squared:  0.1182 \n",
       "F-statistic: 170.2 on 4 and 5046 DF,  p-value: < 2.2e-16\n"
      ]
     },
     "metadata": {},
     "output_type": "display_data"
    }
   ],
   "source": [
    "# Linear Regression\n",
    "# ------------------\n",
    "\n",
    "\n",
    "# Data recoded\n",
    "# data$Sex<-ifelse(data$Gender==”Male”, 1, 0)\n",
    "\n",
    "# Multiple Linear Regression for FinalHeartABT\n",
    "fit <- lm(Alive_1 ~ Male_1_Female_0 + Weight + Diastolic + Systolic, data=heartABT)\n",
    "# Show results\n",
    "summary(fit)"
   ]
  },
  {
   "cell_type": "code",
   "execution_count": 13,
   "metadata": {},
   "outputs": [
    {
     "name": "stderr",
     "output_type": "stream",
     "text": [
      "Warning message in file(filename, \"r\", encoding = encoding):\n",
      "\"cannot open file 'performance_plot_utils.R': No such file or directory\""
     ]
    },
    {
     "ename": "ERROR",
     "evalue": "Error in file(filename, \"r\", encoding = encoding): cannot open the connection\n",
     "output_type": "error",
     "traceback": [
      "Error in file(filename, \"r\", encoding = encoding): cannot open the connection\nTraceback:\n",
      "1. source(\"performance_plot_utils.R\")",
      "2. file(filename, \"r\", encoding = encoding)"
     ]
    }
   ],
   "source": [
    "# Decision Tree\n",
    "# ------------------\n",
    "library(rpart)# tree models \n",
    "library(caret) # feature selection\n",
    "library(ggplot2)\n",
    "library(rpart) # plot dtree\n",
    "library(ROCR) # model evaluation\n",
    "library(e1071) # tuning model\n",
    "source(\"performance_plot_utils.R\") # plotting curves\n",
    "## separate feature and class variables\n",
    "test.feature.vars <- test.data[,-1]\n",
    "test.class.var <- test.data[,1]"
   ]
  }
 ],
 "metadata": {
  "kernelspec": {
   "display_name": "R",
   "language": "R",
   "name": "ir"
  },
  "language_info": {
   "codemirror_mode": "r",
   "file_extension": ".r",
   "mimetype": "text/x-r-source",
   "name": "R",
   "pygments_lexer": "r",
   "version": "3.3.2"
  }
 },
 "nbformat": 4,
 "nbformat_minor": 2
}
